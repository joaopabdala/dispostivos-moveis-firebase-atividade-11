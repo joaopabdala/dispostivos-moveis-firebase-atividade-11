{
 "cells": [
  {
   "cell_type": "code",
   "execution_count": 18,
   "id": "eb27e166",
   "metadata": {},
   "outputs": [
    {
     "name": "stdout",
     "output_type": "stream",
     "text": [
      "['admin', 'config', 'local', 'loja', 'meubanco']\n",
      "['produtos', 'clientes', 'vendedores']\n",
      "{'_id': ObjectId('67518ee6aa413dcebe16792b'), 'name': 'aaaa', 'city': 'São Paulo'}\n",
      "{'_id': ObjectId('67518ef0aa413dcebe16792d'), 'name': 'bbbb', 'city': 'São Paulo'}\n",
      "{'_id': ObjectId('67518ef9aa413dcebe16792f'), 'name': 'cccc', 'city': 'Guarapuava'}\n",
      "{'_id': ObjectId('67518effaa413dcebe167931'), 'name': 'ddddd', 'city': 'Maringá'}\n",
      "{'_id': ObjectId('67518f05aa413dcebe167933'), 'name': 'eeee', 'city': 'Curitiba'}\n"
     ]
    }
   ],
   "source": [
    "import pymongo\n",
    "\n",
    "myclient = pymongo.MongoClient(\"mongodb://localhost:27017/\")\n",
    "\n",
    "loja = myclient[\"loja\"]\n",
    "products = loja[\"produtos\"]\n",
    "sellers = loja[\"vendedores\"]\n",
    "clients = loja[\"clientes\"]\n",
    "\n",
    "\n",
    "print(myclient.list_database_names())\n",
    "\n",
    "print(loja.list_collection_names())\n",
    "\n",
    "data = { \"name\": \"eeee\", \"city\": \"Curitiba\" }\n",
    "\n",
    "clients.insert_one(data)\n",
    "\n",
    "for x in clients.find():\n",
    "    print(x)"
   ]
  }
 ],
 "metadata": {
  "kernelspec": {
   "display_name": "Python 3 (ipykernel)",
   "language": "python",
   "name": "python3"
  },
  "language_info": {
   "codemirror_mode": {
    "name": "ipython",
    "version": 3
   },
   "file_extension": ".py",
   "mimetype": "text/x-python",
   "name": "python",
   "nbconvert_exporter": "python",
   "pygments_lexer": "ipython3",
   "version": "3.10.12"
  }
 },
 "nbformat": 4,
 "nbformat_minor": 5
}
